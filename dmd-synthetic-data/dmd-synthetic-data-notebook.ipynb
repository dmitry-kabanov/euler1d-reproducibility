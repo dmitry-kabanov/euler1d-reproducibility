{
 "cells": [
  {
   "cell_type": "markdown",
   "metadata": {},
   "source": [
    "# Experiment \"DMD with synthetic data\""
   ]
  },
  {
   "cell_type": "code",
   "execution_count": 11,
   "metadata": {
    "collapsed": true
   },
   "outputs": [],
   "source": [
    "import os\n",
    "import sys\n",
    "import timeit\n",
    "\n",
    "import numpy as np\n",
    "\n",
    "from scipy import integrate\n",
    "\n",
    "from saf.linear.postprocessor import Postprocessor"
   ]
  },
  {
   "cell_type": "code",
   "execution_count": 13,
   "metadata": {
    "collapsed": false
   },
   "outputs": [
    {
     "ename": "AssertionError",
     "evalue": "Different number of true and appr. eigenvalues for k=0",
     "output_type": "error",
     "traceback": [
      "\u001b[0;31m---------------------------------------------------------------------------\u001b[0m",
      "\u001b[0;31mAssertionError\u001b[0m                            Traceback (most recent call last)",
      "\u001b[0;32m<ipython-input-13-891cbde56865>\u001b[0m in \u001b[0;36m<module>\u001b[0;34m()\u001b[0m\n\u001b[1;32m     99\u001b[0m     \u001b[0mprint\u001b[0m\u001b[0;34m(\u001b[0m\u001b[0;34m'{} loops; best of {}: {} s per loop'\u001b[0m\u001b[0;34m.\u001b[0m\u001b[0mformat\u001b[0m\u001b[0;34m(\u001b[0m\u001b[0mNUMBER\u001b[0m\u001b[0;34m,\u001b[0m \u001b[0mREPEAT\u001b[0m\u001b[0;34m,\u001b[0m \u001b[0mmin\u001b[0m\u001b[0;34m(\u001b[0m\u001b[0mtimes\u001b[0m\u001b[0;34m)\u001b[0m\u001b[0;34m)\u001b[0m\u001b[0;34m)\u001b[0m\u001b[0;34m\u001b[0m\u001b[0m\n\u001b[1;32m    100\u001b[0m \u001b[0;34m\u001b[0m\u001b[0m\n\u001b[0;32m--> 101\u001b[0;31m \u001b[0mdmd_synth_data\u001b[0m\u001b[0;34m(\u001b[0m\u001b[0;34m)\u001b[0m\u001b[0;34m\u001b[0m\u001b[0m\n\u001b[0m",
      "\u001b[0;32m<ipython-input-13-891cbde56865>\u001b[0m in \u001b[0;36mdmd_synth_data\u001b[0;34m()\u001b[0m\n\u001b[1;32m     88\u001b[0m     \u001b[0mfilename\u001b[0m \u001b[0;34m=\u001b[0m \u001b[0mos\u001b[0m\u001b[0;34m.\u001b[0m\u001b[0mpath\u001b[0m\u001b[0;34m.\u001b[0m\u001b[0mjoin\u001b[0m\u001b[0;34m(\u001b[0m\u001b[0;34m'_assets'\u001b[0m\u001b[0;34m,\u001b[0m \u001b[0;34m'dmd-synthetic-data.tex'\u001b[0m\u001b[0;34m)\u001b[0m\u001b[0;34m\u001b[0m\u001b[0m\n\u001b[1;32m     89\u001b[0m     \u001b[0;31m#sys.stdout = open(filename, 'w')\u001b[0m\u001b[0;34m\u001b[0m\u001b[0;34m\u001b[0m\u001b[0m\n\u001b[0;32m---> 90\u001b[0;31m     \u001b[0mprint_latex_table\u001b[0m\u001b[0;34m(\u001b[0m\u001b[0;34m[\u001b[0m\u001b[0mtrue_eigvals_1\u001b[0m\u001b[0;34m,\u001b[0m \u001b[0mtrue_eigvals_2\u001b[0m\u001b[0;34m]\u001b[0m\u001b[0;34m,\u001b[0m \u001b[0;34m[\u001b[0m\u001b[0mappr_eigvals_1\u001b[0m\u001b[0;34m,\u001b[0m \u001b[0mappr_eigvals_2\u001b[0m\u001b[0;34m]\u001b[0m\u001b[0;34m)\u001b[0m\u001b[0;34m\u001b[0m\u001b[0m\n\u001b[0m\u001b[1;32m     91\u001b[0m     \u001b[0;31m#sys.stdout = cur_stdout\u001b[0m\u001b[0;34m\u001b[0m\u001b[0;34m\u001b[0m\u001b[0m\n\u001b[1;32m     92\u001b[0m \u001b[0;34m\u001b[0m\u001b[0m\n",
      "\u001b[0;32m<ipython-input-13-891cbde56865>\u001b[0m in \u001b[0;36mprint_latex_table\u001b[0;34m(true_eigvals_list, appr_eigvals_list)\u001b[0m\n\u001b[1;32m      9\u001b[0m         \u001b[0mtrue_eigvals\u001b[0m \u001b[0;34m=\u001b[0m \u001b[0mtrue_eigvals_list\u001b[0m\u001b[0;34m[\u001b[0m\u001b[0mk\u001b[0m\u001b[0;34m]\u001b[0m\u001b[0;34m\u001b[0m\u001b[0m\n\u001b[1;32m     10\u001b[0m         \u001b[0mappr_eigvals\u001b[0m \u001b[0;34m=\u001b[0m \u001b[0mappr_eigvals_list\u001b[0m\u001b[0;34m[\u001b[0m\u001b[0mk\u001b[0m\u001b[0;34m]\u001b[0m\u001b[0;34m\u001b[0m\u001b[0m\n\u001b[0;32m---> 11\u001b[0;31m         \u001b[0;32massert\u001b[0m \u001b[0mlen\u001b[0m\u001b[0;34m(\u001b[0m\u001b[0mtrue_eigvals\u001b[0m\u001b[0;34m)\u001b[0m \u001b[0;34m==\u001b[0m \u001b[0mlen\u001b[0m\u001b[0;34m(\u001b[0m\u001b[0mappr_eigvals\u001b[0m\u001b[0;34m)\u001b[0m\u001b[0;34m,\u001b[0m             \u001b[0;34m'Different number of true and appr. eigenvalues for k={}'\u001b[0m\u001b[0;34m.\u001b[0m\u001b[0mformat\u001b[0m\u001b[0;34m(\u001b[0m\u001b[0mk\u001b[0m\u001b[0;34m)\u001b[0m\u001b[0;34m\u001b[0m\u001b[0m\n\u001b[0m\u001b[1;32m     12\u001b[0m         \u001b[0mprint_latex_table_section\u001b[0m\u001b[0;34m(\u001b[0m\u001b[0mtrue_eigvals\u001b[0m\u001b[0;34m,\u001b[0m \u001b[0mappr_eigvals\u001b[0m\u001b[0;34m,\u001b[0m \u001b[0mk\u001b[0m\u001b[0;34m)\u001b[0m\u001b[0;34m\u001b[0m\u001b[0m\n\u001b[1;32m     13\u001b[0m \u001b[0;34m\u001b[0m\u001b[0m\n",
      "\u001b[0;31mAssertionError\u001b[0m: Different number of true and appr. eigenvalues for k=0"
     ]
    }
   ],
   "source": [
    "def print_latex_table(true_eigvals_list, appr_eigvals_list):\n",
    "    print(r'\\begin{tabular}{crrrr}')\n",
    "    print(r'\\toprule')\n",
    "    print(r'\\multicolumn{1}{c}{Example} & \\multicolumn{1}{c}{\\(\\hat{\\gamma}\\)} & '\n",
    "          r'\\multicolumn{1}{c}{\\(\\hat{\\omega}\\)} & \\multicolumn{1}{c}{\\(e_{\\gamma}\\)} & '\n",
    "          r'\\multicolumn{1}{c}{\\(e_{\\omega}\\)} \\\\')\n",
    "    for k in range(2):\n",
    "        print(r'\\midrule')\n",
    "        true_eigvals = true_eigvals_list[k]\n",
    "        appr_eigvals = appr_eigvals_list[k]\n",
    "        assert len(true_eigvals) == len(appr_eigvals), \\\n",
    "            'Different number of true and appr. eigenvalues for k={}'.format(k)\n",
    "        print_latex_table_section(true_eigvals, appr_eigvals, k)\n",
    "\n",
    "    print(r'\\bottomrule')\n",
    "    print(r'\\end{tabular}')\n",
    "\n",
    "\n",
    "def print_latex_table_section(true_eigvals, appr_eigvals, k):\n",
    "    size = len(appr_eigvals)\n",
    "    for i, __ in enumerate(appr_eigvals):\n",
    "        true_eigval = true_eigvals[i]\n",
    "        appr_eigval = appr_eigvals[i]\n",
    "\n",
    "        error_real = abs(true_eigval.real - appr_eigval.real) / true_eigval.real\n",
    "        error_imag = abs(true_eigval.imag - appr_eigval.imag) / true_eigval.imag\n",
    "\n",
    "        if i == 0:\n",
    "            first_part = r'\\multirow{{{:d}}}{{*}}{{{:}}}'\n",
    "            second_part =  r'& {:9.2f} & {:14.2f} & {:14.2e} & {:14.2e} \\\\'\n",
    "            string = first_part + second_part\n",
    "            print(string.format(\n",
    "                size, k+1, appr_eigval.real, appr_eigval.imag, error_real, error_imag))    \n",
    "        else:\n",
    "            string = r'                   & {:9.2f} & {:14.2f} & {:14.2e} & {:14.2e} \\\\'\n",
    "            print(string.format(\n",
    "                    appr_eigval.real, appr_eigval.imag, error_real, error_imag))\n",
    "\n",
    "\n",
    "def dmd_synth_data():\n",
    "    \"\"\"Generate synthetic data and compute errors on found eigenvalues.\"\"\"\n",
    "    # Important constants\n",
    "    AMPLITUDE = 1e-10\n",
    "    NOISE_AMPLITUDE = 1e-13\n",
    "    FREQ = 100\n",
    "    \n",
    "    def generate_synthetic_example(tfinal, true_eigvals):\n",
    "        t = np.linspace(0, tfinal, num=tfinal*FREQ+1)\n",
    "        y = np.zeros_like(t)\n",
    "\n",
    "        for i in range(len(true_eigvals)):\n",
    "            gamma = true_eigvals[i].real\n",
    "            omega = true_eigvals[i].imag\n",
    "            y = y + AMPLITUDE * np.exp(gamma*t) * np.sin(omega*t)\n",
    "\n",
    "        y = y * (1 + NOISE_AMPLITUDE * np.random.randn(len(y)))\n",
    "        \n",
    "        return t, y\n",
    "    \n",
    "    \n",
    "    print('First example')\n",
    "    tfinal_1 = 21\n",
    "    true_eigvals_1 = np.array([\n",
    "        0.3 + 0.2 * 1j,\n",
    "    ])\n",
    "    t_1, y_1 = generate_synthetic_example(tfinal_1, true_eigvals_1)\n",
    "\n",
    "    p_1 = Postprocessor(t_1, y_1)\n",
    "    appr_eigvals_1, error_res_1, error_fit_1 = p_1.extract_stability_info()\n",
    "\n",
    "    print('Second example')\n",
    "    tfinal_2 = 21\n",
    "    true_eigvals_2 = np.array([\n",
    "        0.7 + 0.1 * 1j,\n",
    "        0.8 + 1.57 * 1j,\n",
    "        0.6 + 2.76 * 1j,\n",
    "        0.5 + 3.88 * 1j,\n",
    "        0.01 + 15.62 * 1j,\n",
    "    ])\n",
    "\n",
    "    t_2, y_2 = generate_synthetic_example(tfinal_2, true_eigvals_2)\n",
    "    \n",
    "    p_2 = Postprocessor(t_2, y_2)\n",
    "    appr_eigvals_2, error_res_2, error_fit_2 = p_2.extract_stability_info()\n",
    "\n",
    "    print('Saving results into `_assets/dmd-synthetic-data.tex`')\n",
    "    cur_stdout = sys.stdout\n",
    "    filename = os.path.join('_assets', 'dmd-synthetic-data.tex')\n",
    "    sys.stdout = open(filename, 'w')\n",
    "    print_latex_table([true_eigvals_1, true_eigvals_2], [appr_eigvals_1, appr_eigvals_2])\n",
    "    sys.stdout = cur_stdout\n",
    "    \n",
    "    print('Timing algorithm using Example 1')\n",
    "    REPEAT = 3\n",
    "    NUMBER = 2\n",
    "    times_cum = timeit.Timer(p_1.extract_stability_info).repeat(\n",
    "        repeat=REPEAT, number=NUMBER)\n",
    "    times = [x / NUMBER for x in times_cum]\n",
    "    print('{} loops; best of {}: {} s per loop'.format(NUMBER, REPEAT, min(times)))\n",
    "    \n",
    "dmd_synth_data()"
   ]
  },
  {
   "cell_type": "code",
   "execution_count": null,
   "metadata": {
    "collapsed": true
   },
   "outputs": [],
   "source": []
  }
 ],
 "metadata": {
  "anaconda-cloud": {},
  "kernelspec": {
   "display_name": "Python [conda root]",
   "language": "python",
   "name": "conda-root-py"
  },
  "language_info": {
   "codemirror_mode": {
    "name": "ipython",
    "version": 3
   },
   "file_extension": ".py",
   "mimetype": "text/x-python",
   "name": "python",
   "nbconvert_exporter": "python",
   "pygments_lexer": "ipython3",
   "version": "3.5.2"
  }
 },
 "nbformat": 4,
 "nbformat_minor": 1
}
